{
  "nbformat": 4,
  "nbformat_minor": 0,
  "metadata": {
    "colab": {
      "provenance": [],
      "authorship_tag": "ABX9TyP7kEPAqr/QO7SU6V+gzsDy",
      "include_colab_link": true
    },
    "kernelspec": {
      "name": "python3",
      "display_name": "Python 3"
    },
    "language_info": {
      "name": "python"
    }
  },
  "cells": [
    {
      "cell_type": "markdown",
      "metadata": {
        "id": "view-in-github",
        "colab_type": "text"
      },
      "source": [
        "<a href=\"https://colab.research.google.com/github/MaurilioFlorencio/Merge-Vetores-Maurilio/blob/main/Merge_Vetores_Maurilio.ipynb\" target=\"_parent\"><img src=\"https://colab.research.google.com/assets/colab-badge.svg\" alt=\"Open In Colab\"/></a>"
      ]
    },
    {
      "cell_type": "markdown",
      "source": [
        "Dado dois vetores ordenados de forma crescente, implemente uma função chamada merge_vetores que receba esses dois vetores como parâmetros e retorne um novo vetor que seja a fusão ordenada dos dois vetores de entrada.\n",
        "\n",
        "\n",
        "\n",
        "Exemplo de entrada:\n",
        "vetor1 = [1, 3, 5, 7, 9]\n",
        "vetor2 = [2, 4, 6, 8, 10]\n",
        "\n",
        "\n",
        "\n",
        "Exemplo de saída:\n",
        "\n",
        "resultado = [1, 2, 3, 4, 5, 6, 7, 8, 9, 10]\n",
        "\n",
        "\n",
        "Seu objetivo é implementar a função merge_vetores de forma eficiente, sem usar funções prontas do Python, como sort ou sorted. Você pode criar funções auxiliares, se necessário.\n",
        "\n",
        "\n",
        "Dica: \n",
        "Use a técnica de intercalação (merge) dos dois vetores para formar o vetor final ordenado.\n",
        "\n",
        "Boa atividade!"
      ],
      "metadata": {
        "id": "srlboUqo-s-J"
      }
    },
    {
      "cell_type": "code",
      "execution_count": 2,
      "metadata": {
        "colab": {
          "base_uri": "https://localhost:8080/"
        },
        "id": "YDQozXtOUzPa",
        "outputId": "e196d965-4f81-40ab-9edb-1679bc0719a4"
      },
      "outputs": [
        {
          "output_type": "stream",
          "name": "stdout",
          "text": [
            "[1, 2, 3, 4, 5, 6, 7, 8, 9, 10]\n"
          ]
        }
      ],
      "source": [
        "vetor1 = [1 , 3 , 5 , 7 , 9]\n",
        "vetor2 = [2 , 4 , 6 , 8 , 10]\n",
        "resultado = []\n",
        "\n",
        "def mergeVetores(vetor1,vetor2,resultado):\n",
        "  while len(vetor1) != 0 and len(vetor2) != 0:\n",
        "        resultado.append(min(vetor1))\n",
        "        resultado.append(min(vetor2))\n",
        "        vetor1.remove(min(vetor1))\n",
        "        vetor2.remove(min(vetor2))\n",
        "  return resultado\n",
        "\n",
        "print(mergeVetores(vetor1,vetor2,resultado))"
      ]
    }
  ]
}